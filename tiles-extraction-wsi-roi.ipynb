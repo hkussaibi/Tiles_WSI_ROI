{
 "cells": [
  {
   "cell_type": "markdown",
   "id": "9687b7db",
   "metadata": {
    "papermill": {
     "duration": 0.002512,
     "end_time": "2023-11-08T00:40:33.369295",
     "exception": false,
     "start_time": "2023-11-08T00:40:33.366783",
     "status": "completed"
    },
    "tags": []
   },
   "source": [
    "**Title: Automated Tile Extraction from WSIs within ROI Annotated with QuPath Using Python**\n",
    "\n",
    "**Description:**\n",
    "\n",
    "This Python script is a powerful tool designed to extract tiles from Whole Slide Images (WSIs) specifically within Regions of Interest (ROIs) annotated using the popular digital pathology software QuPath. It leverages the capabilities of the OpenSlide library to work with WSIs and the Shapely library to process geometrical data.\n",
    "\n",
    "**Key Features:**\n",
    "\n",
    "1. **WSI Compatibility:** This tool is compatible with Whole Slide Images (WSIs) in various formats, such as SVS.\n",
    "\n",
    "2. **GeoJSON Support:** It reads and processes ROIs stored in GeoJSON format. The provided script assumes that the GeoJSON file contains polygon coordinates that define the ROI. These coordinates are extracted to create an ROI polygon.\n",
    "\n",
    "3. **ROI-Based Extraction:** The script only extracts tiles that fall within the defined ROI polygon, allowing you to focus on specific areas of interest in the WSI.\n",
    "\n",
    "4. **Customizable Parameters:** You can adjust parameters like the tile size and tissue threshold to suit your specific requirements.\n",
    "\n",
    "5. **Output Management:** Extracted tiles are saved in an output directory with user-defined names for further analysis or visualization.\n",
    "\n",
    "**Use Cases:**\n",
    "\n",
    "- **Digital Pathology Research:** Ideal for researchers and pathologists working with digital pathology data to extract and analyze specific tissue regions.\n",
    "\n",
    "- **QuPath Integration:** Seamlessly integrates with QuPath's ROI annotation feature, enabling you to work with your existing annotations.\n",
    "\n",
    "- **Automation:** Offers an automated solution for tile extraction, streamlining the process and reducing manual effort.\n",
    "\n",
    "**How to Use:**\n",
    "\n",
    "1. Ensure you have the required Python libraries installed, such as OpenSlide and Shapely.\n",
    "\n",
    "2. Prepare your QuPath annotations in GeoJSON format.\n",
    "\n",
    "3. Customize parameters if needed, such as tile size and tissue threshold.\n",
    "\n",
    "4. Run the script with the path to your WSI and GeoJSON file.\n",
    "\n",
    "5. Extracted tiles will be saved in the specified output directory.\n",
    "\n",
    "---\n",
    "\n",
    "This code is a valuable asset for digital pathology professionals and researchers looking to extract and work with specific regions of interest within Whole Slide Images."
   ]
  },
  {
   "cell_type": "code",
   "execution_count": null,
   "id": "7e662d59",
   "metadata": {
    "execution": {
     "iopub.execute_input": "2023-11-08T00:40:33.374704Z",
     "iopub.status.busy": "2023-11-08T00:40:33.374248Z",
     "iopub.status.idle": "2023-11-08T00:40:33.545880Z",
     "shell.execute_reply": "2023-11-08T00:40:33.545071Z"
    },
    "papermill": {
     "duration": 0.177174,
     "end_time": "2023-11-08T00:40:33.548400",
     "exception": false,
     "start_time": "2023-11-08T00:40:33.371226",
     "status": "completed"
    },
    "tags": []
   },
   "outputs": [],
   "source": [
    "import json\n",
    "from openslide import OpenSlide\n",
    "import numpy as np\n",
    "import os\n",
    "from shapely.geometry import Polygon"
   ]
  },
  {
   "cell_type": "code",
   "execution_count": null,
   "id": "f6b3ef80",
   "metadata": {
    "execution": {
     "iopub.execute_input": "2023-11-08T00:40:33.553485Z",
     "iopub.status.busy": "2023-11-08T00:40:33.553214Z",
     "iopub.status.idle": "2023-11-08T00:40:33.901256Z",
     "shell.execute_reply": "2023-11-08T00:40:33.900009Z"
    },
    "papermill": {
     "duration": 0.3522,
     "end_time": "2023-11-08T00:40:33.902539",
     "exception": true,
     "start_time": "2023-11-08T00:40:33.550339",
     "status": "failed"
    },
    "tags": []
   },
   "outputs": [],
   "source": [
    "# Load the GeoJSON file\n",
    "with open('path/to/your_geojson_file.geojson') as f:\n",
    "    geojson_data = json.load(f)\n",
    "\n",
    "# Extract the coordinates of the ROI\n",
    "coordinates = geojson_data['geometry']['coordinates'][0]\n",
    "\n",
    "# Create a polygon from the coordinates using the shapely library\n",
    "roi_polygon = Polygon(coordinates)"
   ]
  },
  {
   "cell_type": "code",
   "execution_count": null,
   "id": "cf16fdd9",
   "metadata": {
    "papermill": {
     "duration": null,
     "end_time": null,
     "exception": null,
     "start_time": null,
     "status": "pending"
    },
    "tags": []
   },
   "outputs": [],
   "source": [
    "wsi_path = \"path/to/your_wsi_image.svs\"\n",
    "slide = OpenSlide(wsi_path)\n",
    "\n",
    "tile_size = (256, 256)\n",
    "level = 0\n",
    "output_dir = \"path/to/output_tiles\"\n",
    "os.makedirs(output_dir, exist_ok=True)"
   ]
  },
  {
   "cell_type": "code",
   "execution_count": null,
   "id": "3aecf97d",
   "metadata": {
    "papermill": {
     "duration": null,
     "end_time": null,
     "exception": null,
     "start_time": null,
     "status": "pending"
    },
    "tags": []
   },
   "outputs": [],
   "source": [
    "tiles = []\n",
    "\n",
    "for y in range(0, slide.level_dimensions[level][1], tile_size[1]):\n",
    "    for x in range(0, slide.level_dimensions[level][0], tile_size[0]):\n",
    "        region = slide.read_region((x, y), level, tile_size)\n",
    "\n",
    "        # Check if the tile is within the ROI polygon\n",
    "        tile_bbox = Polygon(\n",
    "            [(x, y), (x + tile_size[0], y), (x + tile_size[0], y + tile_size[1]), (x, y + tile_size[1])])\n",
    "\n",
    "        if tile_bbox.intersects(roi_polygon):\n",
    "            # Perform tissue detection here to determine if the tile has enough tissue\n",
    "            tiles.append(region)\n",
    "\n",
    "# Save the non-empty tiles\n",
    "for i, tile in enumerate(tiles):\n",
    "    tile.save(f\"{output_dir}/tile_{i}.png\")\n",
    "\n",
    "slide.close()"
   ]
  },
  {
   "cell_type": "markdown",
   "id": "0895d604",
   "metadata": {
    "papermill": {
     "duration": null,
     "end_time": null,
     "exception": null,
     "start_time": null,
     "status": "pending"
    },
    "tags": []
   },
   "source": [
    "# **License**\n",
    "\n",
    "This Notebook has been released under the [Apache 2.0](http://www.apache.org/licenses/LICENSE-2.0) open source license."
   ]
  }
 ],
 "metadata": {
  "kernelspec": {
   "display_name": "Python 3",
   "language": "python",
   "name": "python3"
  },
  "language_info": {
   "codemirror_mode": {
    "name": "ipython",
    "version": 3
   },
   "file_extension": ".py",
   "mimetype": "text/x-python",
   "name": "python",
   "nbconvert_exporter": "python",
   "pygments_lexer": "ipython3",
   "version": "3.10.12"
  },
  "papermill": {
   "default_parameters": {},
   "duration": 3.693693,
   "end_time": "2023-11-08T00:40:34.324533",
   "environment_variables": {},
   "exception": true,
   "input_path": "__notebook__.ipynb",
   "output_path": "__notebook__.ipynb",
   "parameters": {},
   "start_time": "2023-11-08T00:40:30.630840",
   "version": "2.4.0"
  }
 },
 "nbformat": 4,
 "nbformat_minor": 5
}
