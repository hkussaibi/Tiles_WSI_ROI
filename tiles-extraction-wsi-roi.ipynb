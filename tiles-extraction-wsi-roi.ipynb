{
 "cells": [
  {
   "cell_type": "code",
   "execution_count": null,
   "id": "7e662d59",
   "metadata": {
    "execution": {
     "iopub.execute_input": "2023-11-08T00:40:33.374704Z",
     "iopub.status.busy": "2023-11-08T00:40:33.374248Z",
     "iopub.status.idle": "2023-11-08T00:40:33.545880Z",
     "shell.execute_reply": "2023-11-08T00:40:33.545071Z"
    },
    "papermill": {
     "duration": 0.177174,
     "end_time": "2023-11-08T00:40:33.548400",
     "exception": false,
     "start_time": "2023-11-08T00:40:33.371226",
     "status": "completed"
    },
    "tags": []
   },
   "outputs": [],
   "source": [
    "import json\n",
    "from openslide import OpenSlide\n",
    "import os\n",
    "from shapely.geometry import Polygon"
   ]
  },
  {
   "cell_type": "code",
   "execution_count": null,
   "id": "f6b3ef80",
   "metadata": {
    "execution": {
     "iopub.execute_input": "2023-11-08T00:40:33.553485Z",
     "iopub.status.busy": "2023-11-08T00:40:33.553214Z",
     "iopub.status.idle": "2023-11-08T00:40:33.901256Z",
     "shell.execute_reply": "2023-11-08T00:40:33.900009Z"
    },
    "papermill": {
     "duration": 0.3522,
     "end_time": "2023-11-08T00:40:33.902539",
     "exception": true,
     "start_time": "2023-11-08T00:40:33.550339",
     "status": "failed"
    },
    "tags": []
   },
   "outputs": [],
   "source": [
    "# Load the GeoJSON file\n",
    "with open('path/to/your_geojson_file.geojson') as f:\n",
    "    geojson_data = json.load(f)\n",
    "\n",
    "# Extract the coordinates of the ROI\n",
    "coordinates = geojson_data['geometry']['coordinates'][0]\n",
    "\n",
    "# Create a polygon from the coordinates using the shapely library\n",
    "roi_polygon = Polygon(coordinates)"
   ]
  },
  {
   "cell_type": "code",
   "execution_count": null,
   "id": "cf16fdd9",
   "metadata": {
    "papermill": {
     "duration": null,
     "end_time": null,
     "exception": null,
     "start_time": null,
     "status": "pending"
    },
    "tags": []
   },
   "outputs": [],
   "source": [
    "# Define the path to the whole-slide image (wsi)\n",
    "wsi_path = \"path/to/your_wsi_image.svs\"\n",
    "\n",
    "# Open the whole-slide image using OpenSlide\n",
    "slide = OpenSlide(wsi_path)\n",
    "\n",
    "# Define the size of the tiles to be extracted\n",
    "tile_size = (256, 256)\n",
    "\n",
    "# Specify the level of magnification to use\n",
    "level = 0\n",
    "\n",
    "# Define the directory to store the output tiles\n",
    "output_dir = \"path/to/output_tiles\"\n",
    "\n",
    "# Create the output directory if it doesn't exist\n",
    "os.makedirs(output_dir, exist_ok=True)"
   ]
  },
  {
   "cell_type": "code",
   "execution_count": null,
   "id": "3aecf97d",
   "metadata": {
    "papermill": {
     "duration": null,
     "end_time": null,
     "exception": null,
     "start_time": null,
     "status": "pending"
    },
    "tags": []
   },
   "outputs": [],
   "source": [
    "# Initialize an empty list to store the extracted tiles\n",
    "tiles = []\n",
    "\n",
    "# Iterate through the slide to extract tiles\n",
    "for y in range(0, slide.level_dimensions[level][1], tile_size[1]):\n",
    "    for x in range(0, slide.level_dimensions[level][0], tile_size[0]):\n",
    "        # Read a region of the slide at the specified level and tile size\n",
    "        region = slide.read_region((x, y), level, tile_size)\n",
    "\n",
    "        # Create a bounding box for the tile\n",
    "        tile_bbox = Polygon(\n",
    "            [(x, y), (x + tile_size[0], y), (x + tile_size[0], y + tile_size[1]), (x, y + tile_size[1])]\n",
    "        )\n",
    "\n",
    "        # Check if the tile intersects with the Region of Interest (ROI) polygon: add it to the list\n",
    "        if tile_bbox.intersects(roi_polygon):\n",
    "           tiles.append(region)\n",
    "\n",
    "# Save the tiles to the output directory\n",
    "for i, tile in enumerate(tiles):\n",
    "    # Save each tile as a PNG file with a unique identifier\n",
    "    tile.save(f\"{output_dir}/tile_{i}.png\")\n",
    "\n",
    "# Close the whole-slide image after processing\n",
    "slide.close()"
   ]
  }
 ],
 "metadata": {
  "kernelspec": {
   "display_name": "Python 3",
   "language": "python",
   "name": "python3"
  },
  "language_info": {
   "codemirror_mode": {
    "name": "ipython",
    "version": 3
   },
   "file_extension": ".py",
   "mimetype": "text/x-python",
   "name": "python",
   "nbconvert_exporter": "python",
   "pygments_lexer": "ipython3",
   "version": "3.10.12"
  },
  "papermill": {
   "default_parameters": {},
   "duration": 3.693693,
   "end_time": "2023-11-08T00:40:34.324533",
   "environment_variables": {},
   "exception": true,
   "input_path": "__notebook__.ipynb",
   "output_path": "__notebook__.ipynb",
   "parameters": {},
   "start_time": "2023-11-08T00:40:30.630840",
   "version": "2.4.0"
  }
 },
 "nbformat": 4,
 "nbformat_minor": 5
}
